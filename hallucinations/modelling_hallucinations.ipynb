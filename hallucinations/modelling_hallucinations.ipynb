{
 "cells": [
  {
   "cell_type": "markdown",
   "id": "c69fd9f2-3ee9-4f06-9f2d-15bb2fceee4f",
   "metadata": {},
   "source": [
    "Word embedding -> 2 dimension -> 5 features"
   ]
  },
  {
   "cell_type": "code",
   "execution_count": 15,
   "id": "d670a0d7-67c6-4e69-b7df-38deb76b838b",
   "metadata": {},
   "outputs": [],
   "source": [
    "import torch\n",
    "from torch import nn\n",
    "from torch.nn import functional as F\n",
    "\n",
    "from typing import Optional\n",
    "\n",
    "from dataclasses import dataclass, replace\n",
    "import numpy as np\n",
    "import einops\n",
    "\n",
    "from tqdm.notebook import trange\n",
    "\n",
    "import time\n",
    "import pandas as pd\n",
    "import os\n",
    "\n",
    "import plotly.express as px\n",
    "import plotly.graph_objects as go\n",
    "from plotly.subplots import make_subplots\n",
    "\n",
    "import matplotlib.pyplot as plt\n",
    "\n",
    "import nltk\n",
    "import csv\n",
    "from nltk.corpus import words\n",
    "\n",
    "from trainer import BaseTrainer\n",
    "from model import Config, Model\n",
    "from dm import DataManager"
   ]
  },
  {
   "cell_type": "code",
   "execution_count": 16,
   "id": "ce991728-b50e-40b4-91ac-f368fd8bef93",
   "metadata": {},
   "outputs": [],
   "source": [
    "if torch.cuda.is_available():\n",
    "  DEVICE = 'cuda'\n",
    "elif torch.backends.mps.is_available():\n",
    "  DEVICE = 'mps'\n",
    "else:\n",
    "  DEVICE = 'cpu'"
   ]
  },
  {
   "cell_type": "code",
   "execution_count": 9,
   "id": "bb57c69b-7cf3-44e7-be2c-9ccea0802528",
   "metadata": {},
   "outputs": [
    {
     "name": "stdout",
     "output_type": "stream",
     "text": [
      "Dataset created with 20900 words.\n"
     ]
    }
   ],
   "source": [
    "# Download the words corpus if not already downloaded\n",
    "nltk.download('words', quiet=True)\n",
    "\n",
    "# Get the list of English words\n",
    "english_words = words.words()\n",
    "\n",
    "# Define prefixes and suffixes\n",
    "prefixes = ['un', 'anti', 'inter']\n",
    "suffixes = ['able', 'less']\n",
    "\n",
    "# Function to categorize a word\n",
    "def categorize_word(word):\n",
    "    prefix_match = next((prefix for prefix in prefixes if word.startswith(prefix)), None)\n",
    "    suffix_match = next((suffix for suffix in suffixes if word.endswith(suffix)), None)\n",
    "    \n",
    "    if prefix_match and suffix_match:\n",
    "        return 'dual'\n",
    "    elif prefix_match:\n",
    "        return prefix_match\n",
    "    elif suffix_match:\n",
    "        return suffix_match\n",
    "    else:\n",
    "        return None\n",
    "\n",
    "# Process words and create dataset\n",
    "dataset = []\n",
    "for word in english_words:\n",
    "    category = categorize_word(word)\n",
    "    if category:\n",
    "        dataset.append([word, category])\n",
    "\n",
    "# Save to CSV\n",
    "with open('word_affixes_dataset.csv', 'w', newline='', encoding='utf-8') as file:\n",
    "    writer = csv.writer(file)\n",
    "    writer.writerow(['word', 'category'])  # Header\n",
    "    writer.writerows(dataset)\n",
    "\n",
    "print(f\"Dataset created with {len(dataset)} words.\")"
   ]
  },
  {
   "cell_type": "code",
   "execution_count": 10,
   "id": "62939a72-2103-4572-87ba-f3653199411f",
   "metadata": {},
   "outputs": [
    {
     "name": "stdout",
     "output_type": "stream",
     "text": [
      "\n",
      "Sample words and corresponding categories (non-dual)... \n",
      "\n",
      "['abandonable', 'abashless', 'abatable', 'abdicable', 'abhominable']\n",
      "['able', 'less', 'able', 'able', 'able']\n",
      "\n",
      "Sample dual words...\n",
      "\n",
      "['anticipatable', 'antiportable', 'interavailable', 'interchangeable', 'intercommonable']\n"
     ]
    }
   ],
   "source": [
    "dm = DataManager()\n",
    "dm.read_csv_data('word_affixes_dataset.csv')\n",
    "dm.manipulate_data()\n",
    "dm.train_valid_test_split()"
   ]
  },
  {
   "cell_type": "code",
   "execution_count": 11,
   "id": "a75cdc65-317c-4f82-a80e-2774013c0d4d",
   "metadata": {},
   "outputs": [
    {
     "name": "stdout",
     "output_type": "stream",
     "text": [
      "torch.Size([64, 8]) torch.Size([64])\n"
     ]
    }
   ],
   "source": [
    "for x, y in dm.train_loader:\n",
    "    print(x.shape, y.shape)\n",
    "    break"
   ]
  },
  {
   "cell_type": "code",
   "execution_count": 12,
   "id": "8ce38b0c-7872-40b8-8691-532b43d6dc44",
   "metadata": {},
   "outputs": [],
   "source": [
    "config = Config(\n",
    "    vocab_size=dm.vocab_size,\n",
    "    word2idx=dm.word2idx,\n",
    "    n_features=dm.num_classes,\n",
    "    n_hidden=2,\n",
    ")\n",
    "\n",
    "model = Model(config)"
   ]
  },
  {
   "cell_type": "code",
   "execution_count": 7,
   "id": "596810f7-e57d-44d5-90e2-9a5f8f232c02",
   "metadata": {
    "scrolled": true
   },
   "outputs": [
    {
     "name": "stdout",
     "output_type": "stream",
     "text": [
      "Epoch 1/200\n",
      "247/247 - train_loss: 1.0103 - train_accuracy: 58.9672%\n",
      "Epoch 2/200\n",
      "247/247 - train_loss: 0.4727 - train_accuracy: 78.6356%\n",
      "Epoch 3/200\n",
      "247/247 - train_loss: 0.3785 - train_accuracy: 81.5087%\n",
      "Epoch 4/200\n",
      "247/247 - train_loss: 0.3444 - train_accuracy: 84.0969%\n",
      "Epoch 5/200\n",
      "247/247 - train_loss: 0.3236 - train_accuracy: 84.6349%\n",
      "Epoch 6/200\n",
      "247/247 - train_loss: 0.2982 - train_accuracy: 85.4196%\n",
      "Epoch 7/200\n",
      "247/247 - train_loss: 0.2888 - train_accuracy: 86.3372%\n",
      "Epoch 8/200\n",
      "247/247 - train_loss: 0.2770 - train_accuracy: 86.6346%\n",
      "Epoch 9/200\n",
      "247/247 - train_loss: 0.2734 - train_accuracy: 86.9067%\n",
      "Epoch 10/200\n",
      "247/247 - train_loss: 0.2590 - train_accuracy: 87.7231%\n",
      "Epoch 11/200\n",
      "247/247 - train_loss: 0.2611 - train_accuracy: 87.3244%\n",
      "Epoch 12/200\n",
      "247/247 - train_loss: 0.2541 - train_accuracy: 87.7674%\n",
      "Epoch 13/200\n",
      "247/247 - train_loss: 0.2502 - train_accuracy: 87.9066%\n",
      "Epoch 14/200\n",
      "247/247 - train_loss: 0.2490 - train_accuracy: 88.0015%\n",
      "Epoch 15/200\n",
      "247/247 - train_loss: 0.2498 - train_accuracy: 88.0268%\n",
      "Epoch 16/200\n",
      "247/247 - train_loss: 0.2427 - train_accuracy: 88.7293%\n",
      "Epoch 17/200\n",
      "247/247 - train_loss: 0.2397 - train_accuracy: 88.6786%\n",
      "Epoch 18/200\n",
      "247/247 - train_loss: 0.2401 - train_accuracy: 88.5964%\n",
      "Epoch 19/200\n",
      "247/247 - train_loss: 0.2365 - train_accuracy: 88.9824%\n",
      "Epoch 20/200\n",
      "247/247 - train_loss: 0.2291 - train_accuracy: 89.2609%\n",
      "Epoch 21/200\n",
      "247/247 - train_loss: 0.2343 - train_accuracy: 89.1026%\n",
      "Epoch 22/200\n",
      "247/247 - train_loss: 0.2283 - train_accuracy: 89.4254%\n",
      "Epoch 23/200\n",
      "247/247 - train_loss: 0.2330 - train_accuracy: 89.0457%\n",
      "Epoch 24/200\n",
      "247/247 - train_loss: 0.2275 - train_accuracy: 89.1090%\n",
      "Epoch 25/200\n",
      "247/247 - train_loss: 0.2250 - train_accuracy: 89.5203%\n",
      "Epoch 26/200\n",
      "247/247 - train_loss: 0.2251 - train_accuracy: 89.4697%\n",
      "Epoch 27/200\n",
      "247/247 - train_loss: 0.2216 - train_accuracy: 89.5520%\n",
      "Epoch 28/200\n",
      "247/247 - train_loss: 0.2204 - train_accuracy: 89.7798%\n",
      "Epoch 29/200\n",
      "247/247 - train_loss: 0.2215 - train_accuracy: 89.7228%\n",
      "Epoch 30/200\n",
      "247/247 - train_loss: 0.2164 - train_accuracy: 89.8367%\n",
      "Epoch 31/200\n",
      "247/247 - train_loss: 0.2068 - train_accuracy: 90.3746%\n",
      "Epoch 32/200\n",
      "247/247 - train_loss: 0.2166 - train_accuracy: 89.5709%\n",
      "Epoch 33/200\n",
      "247/247 - train_loss: 0.2181 - train_accuracy: 89.9949%\n",
      "Epoch 34/200\n",
      "247/247 - train_loss: 0.2082 - train_accuracy: 90.6721%\n",
      "Epoch 35/200\n",
      "247/247 - train_loss: 0.2066 - train_accuracy: 90.8429%\n",
      "Epoch 36/200\n",
      "247/247 - train_loss: 0.2152 - train_accuracy: 89.9760%\n",
      "Epoch 37/200\n",
      "247/247 - train_loss: 0.2008 - train_accuracy: 90.9442%\n",
      "Epoch 38/200\n",
      "247/247 - train_loss: 0.2151 - train_accuracy: 90.2924%\n",
      "Epoch 39/200\n",
      "247/247 - train_loss: 0.2127 - train_accuracy: 90.4885%\n",
      "Epoch 40/200\n",
      "247/247 - train_loss: 0.2117 - train_accuracy: 90.5518%\n",
      "Epoch 41/200\n",
      "247/247 - train_loss: 0.2046 - train_accuracy: 90.7607%\n",
      "Epoch 42/200\n",
      "247/247 - train_loss: 0.2112 - train_accuracy: 90.4063%\n",
      "Epoch 43/200\n",
      "247/247 - train_loss: 0.2080 - train_accuracy: 90.5645%\n",
      "Epoch 44/200\n",
      "247/247 - train_loss: 0.2044 - train_accuracy: 90.7796%\n",
      "Epoch 45/200\n",
      "247/247 - train_loss: 0.2053 - train_accuracy: 90.4379%\n",
      "Epoch 46/200\n",
      "247/247 - train_loss: 0.2018 - train_accuracy: 90.8809%\n",
      "Epoch 47/200\n",
      "247/247 - train_loss: 0.2019 - train_accuracy: 90.9695%\n",
      "Epoch 48/200\n",
      "247/247 - train_loss: 0.2031 - train_accuracy: 90.9948%\n",
      "Epoch 49/200\n",
      "247/247 - train_loss: 0.2010 - train_accuracy: 91.1467%\n",
      "Epoch 50/200\n",
      "247/247 - train_loss: 0.2042 - train_accuracy: 90.8619%\n",
      "Epoch 51/200\n",
      "247/247 - train_loss: 0.2009 - train_accuracy: 91.3302%\n",
      "Epoch 52/200\n",
      "247/247 - train_loss: 0.2100 - train_accuracy: 90.4379%\n",
      "Epoch 53/200\n",
      "247/247 - train_loss: 0.2045 - train_accuracy: 90.7100%\n",
      "Epoch 54/200\n",
      "247/247 - train_loss: 0.2029 - train_accuracy: 90.9505%\n",
      "Epoch 55/200\n",
      "247/247 - train_loss: 0.2017 - train_accuracy: 90.9695%\n",
      "Epoch 56/200\n",
      "247/247 - train_loss: 0.1988 - train_accuracy: 90.9189%\n",
      "Epoch 57/200\n",
      "247/247 - train_loss: 0.1960 - train_accuracy: 91.3302%\n",
      "Epoch 58/200\n",
      "247/247 - train_loss: 0.1974 - train_accuracy: 91.0961%\n",
      "Epoch 59/200\n",
      "247/247 - train_loss: 0.1955 - train_accuracy: 91.2163%\n",
      "Epoch 60/200\n",
      "247/247 - train_loss: 0.1991 - train_accuracy: 91.1783%\n",
      "Epoch 61/200\n",
      "247/247 - train_loss: 0.1983 - train_accuracy: 91.2479%\n",
      "Epoch 62/200\n",
      "247/247 - train_loss: 0.1966 - train_accuracy: 91.2290%\n",
      "Epoch 63/200\n",
      "247/247 - train_loss: 0.1980 - train_accuracy: 91.0644%\n",
      "Epoch 64/200\n",
      "247/247 - train_loss: 0.1925 - train_accuracy: 91.2606%\n",
      "Epoch 65/200\n",
      "247/247 - train_loss: 0.1927 - train_accuracy: 91.2543%\n",
      "Epoch 66/200\n",
      "247/247 - train_loss: 0.1976 - train_accuracy: 91.3998%\n",
      "Epoch 67/200\n",
      "247/247 - train_loss: 0.1937 - train_accuracy: 91.4062%\n",
      "Epoch 68/200\n",
      "247/247 - train_loss: 0.2000 - train_accuracy: 91.2353%\n",
      "Epoch 69/200\n",
      "247/247 - train_loss: 0.1923 - train_accuracy: 91.5074%\n",
      "Epoch 70/200\n",
      "247/247 - train_loss: 0.1938 - train_accuracy: 91.4062%\n",
      "Epoch 71/200\n",
      "247/247 - train_loss: 0.1961 - train_accuracy: 91.2353%\n",
      "Epoch 72/200\n",
      "247/247 - train_loss: 0.2033 - train_accuracy: 90.9062%\n",
      "Epoch 73/200\n",
      "247/247 - train_loss: 0.1894 - train_accuracy: 91.5454%\n",
      "Epoch 74/200\n",
      "247/247 - train_loss: 0.1989 - train_accuracy: 90.9252%\n",
      "Epoch 75/200\n",
      "247/247 - train_loss: 0.1925 - train_accuracy: 91.2543%\n",
      "Epoch 76/200\n",
      "247/247 - train_loss: 0.1873 - train_accuracy: 91.7416%\n",
      "Epoch 77/200\n",
      "247/247 - train_loss: 0.1960 - train_accuracy: 91.1024%\n",
      "Epoch 78/200\n",
      "247/247 - train_loss: 0.1883 - train_accuracy: 91.6973%\n",
      "Epoch 79/200\n",
      "247/247 - train_loss: 0.1882 - train_accuracy: 91.7162%\n",
      "Epoch 80/200\n",
      "247/247 - train_loss: 0.1881 - train_accuracy: 91.7795%\n",
      "Epoch 81/200\n",
      "247/247 - train_loss: 0.1872 - train_accuracy: 91.4315%\n",
      "Epoch 82/200\n",
      "247/247 - train_loss: 0.1885 - train_accuracy: 91.6909%\n",
      "Epoch 83/200\n",
      "247/247 - train_loss: 0.1816 - train_accuracy: 91.8934%\n",
      "Epoch 84/200\n",
      "247/247 - train_loss: 0.1918 - train_accuracy: 91.3049%\n",
      "Epoch 85/200\n",
      "247/247 - train_loss: 0.1913 - train_accuracy: 91.2922%\n",
      "Epoch 86/200\n",
      "247/247 - train_loss: 0.1956 - train_accuracy: 91.3808%\n",
      "Epoch 87/200\n",
      "247/247 - train_loss: 0.1953 - train_accuracy: 91.3872%\n",
      "Epoch 88/200\n",
      "247/247 - train_loss: 0.1879 - train_accuracy: 91.3429%\n",
      "Epoch 89/200\n",
      "247/247 - train_loss: 0.1878 - train_accuracy: 91.4631%\n",
      "Epoch 90/200\n",
      "247/247 - train_loss: 0.1902 - train_accuracy: 91.2859%\n",
      "Epoch 91/200\n",
      "247/247 - train_loss: 0.1933 - train_accuracy: 91.3492%\n",
      "Epoch 92/200\n",
      "247/247 - train_loss: 0.1915 - train_accuracy: 91.3492%\n",
      "Epoch 93/200\n",
      "247/247 - train_loss: 0.1839 - train_accuracy: 91.5580%\n",
      "Epoch 94/200\n",
      "247/247 - train_loss: 0.1888 - train_accuracy: 91.4947%\n",
      "Epoch 95/200\n",
      "247/247 - train_loss: 0.1888 - train_accuracy: 91.6403%\n",
      "Epoch 96/200\n",
      "247/247 - train_loss: 0.1857 - train_accuracy: 91.7036%\n",
      "Epoch 97/200\n",
      "247/247 - train_loss: 0.1900 - train_accuracy: 91.5517%\n",
      "Epoch 98/200\n",
      "247/247 - train_loss: 0.1833 - train_accuracy: 91.6846%\n",
      "Epoch 99/200\n",
      "247/247 - train_loss: 0.1887 - train_accuracy: 91.6466%\n",
      "Epoch 100/200\n",
      "247/247 - train_loss: 0.1848 - train_accuracy: 91.7479%\n",
      "Epoch 101/200\n",
      "247/247 - train_loss: 0.1837 - train_accuracy: 91.5707%\n",
      "Epoch 102/200\n",
      "247/247 - train_loss: 0.1856 - train_accuracy: 91.9251%\n",
      "Epoch 103/200\n",
      "247/247 - train_loss: 0.1807 - train_accuracy: 91.8365%\n",
      "Epoch 104/200\n",
      "247/247 - train_loss: 0.1866 - train_accuracy: 91.5707%\n",
      "Epoch 105/200\n",
      "247/247 - train_loss: 0.1812 - train_accuracy: 91.7289%\n",
      "Epoch 106/200\n",
      "247/247 - train_loss: 0.1839 - train_accuracy: 91.6340%\n",
      "Epoch 107/200\n",
      "247/247 - train_loss: 0.1808 - train_accuracy: 91.6276%\n",
      "Epoch 108/200\n",
      "247/247 - train_loss: 0.1852 - train_accuracy: 91.6466%\n",
      "Epoch 109/200\n",
      "247/247 - train_loss: 0.1785 - train_accuracy: 91.9947%\n",
      "Epoch 110/200\n",
      "247/247 - train_loss: 0.1819 - train_accuracy: 91.7605%\n",
      "Epoch 111/200\n",
      "247/247 - train_loss: 0.1842 - train_accuracy: 91.7416%\n",
      "Epoch 112/200\n",
      "247/247 - train_loss: 0.1831 - train_accuracy: 91.7922%\n",
      "Epoch 113/200\n",
      "247/247 - train_loss: 0.1840 - train_accuracy: 91.6846%\n",
      "Epoch 114/200\n",
      "247/247 - train_loss: 0.1804 - train_accuracy: 91.9251%\n",
      "Epoch 115/200\n",
      "247/247 - train_loss: 0.1833 - train_accuracy: 91.7858%\n",
      "Epoch 116/200\n",
      "247/247 - train_loss: 0.1815 - train_accuracy: 91.8301%\n",
      "Epoch 117/200\n",
      "247/247 - train_loss: 0.1769 - train_accuracy: 92.1086%\n",
      "Epoch 118/200\n",
      "247/247 - train_loss: 0.1788 - train_accuracy: 92.0580%\n",
      "Epoch 119/200\n",
      "247/247 - train_loss: 0.1853 - train_accuracy: 91.7416%\n",
      "Epoch 120/200\n",
      "247/247 - train_loss: 0.1755 - train_accuracy: 92.0010%\n",
      "Epoch 121/200\n",
      "247/247 - train_loss: 0.1867 - train_accuracy: 91.6593%\n",
      "Epoch 122/200\n",
      "247/247 - train_loss: 0.1800 - train_accuracy: 91.7352%\n",
      "Epoch 123/200\n",
      "247/247 - train_loss: 0.1807 - train_accuracy: 91.9504%\n",
      "Epoch 124/200\n",
      "247/247 - train_loss: 0.1793 - train_accuracy: 91.8744%\n",
      "Epoch 125/200\n",
      "247/247 - train_loss: 0.1801 - train_accuracy: 91.6973%\n",
      "Epoch 126/200\n",
      "247/247 - train_loss: 0.1791 - train_accuracy: 91.8934%\n",
      "Epoch 127/200\n",
      "247/247 - train_loss: 0.1846 - train_accuracy: 91.7669%\n",
      "Epoch 128/200\n",
      "247/247 - train_loss: 0.1850 - train_accuracy: 91.7226%\n",
      "Epoch 129/200\n",
      "247/247 - train_loss: 0.1805 - train_accuracy: 91.9441%\n",
      "Epoch 130/200\n",
      "247/247 - train_loss: 0.1820 - train_accuracy: 91.5517%\n",
      "Epoch 131/200\n",
      "247/247 - train_loss: 0.1760 - train_accuracy: 92.1339%\n",
      "Epoch 132/200\n",
      "247/247 - train_loss: 0.1826 - train_accuracy: 91.8491%\n",
      "Epoch 133/200\n",
      "247/247 - train_loss: 0.1823 - train_accuracy: 91.8555%\n",
      "Epoch 134/200\n",
      "247/247 - train_loss: 0.1754 - train_accuracy: 91.8998%\n",
      "Epoch 135/200\n",
      "247/247 - train_loss: 0.1744 - train_accuracy: 92.4187%\n",
      "Epoch 136/200\n",
      "247/247 - train_loss: 0.1811 - train_accuracy: 92.0833%\n",
      "Epoch 137/200\n",
      "247/247 - train_loss: 0.1756 - train_accuracy: 92.1086%\n",
      "Epoch 138/200\n",
      "247/247 - train_loss: 0.1799 - train_accuracy: 92.0516%\n",
      "Epoch 139/200\n",
      "247/247 - train_loss: 0.1802 - train_accuracy: 92.0010%\n",
      "Epoch 140/200\n",
      "247/247 - train_loss: 0.1771 - train_accuracy: 92.0706%\n",
      "Epoch 141/200\n",
      "247/247 - train_loss: 0.1807 - train_accuracy: 91.7858%\n",
      "Epoch 142/200\n",
      "247/247 - train_loss: 0.1777 - train_accuracy: 91.8555%\n",
      "Epoch 143/200\n",
      "247/247 - train_loss: 0.1826 - train_accuracy: 91.7922%\n",
      "Epoch 144/200\n",
      "247/247 - train_loss: 0.1809 - train_accuracy: 92.0959%\n",
      "Epoch 145/200\n",
      "247/247 - train_loss: 0.1710 - train_accuracy: 92.3744%\n",
      "Epoch 146/200\n",
      "247/247 - train_loss: 0.1745 - train_accuracy: 92.0896%\n",
      "Epoch 147/200\n",
      "247/247 - train_loss: 0.1771 - train_accuracy: 91.9757%\n",
      "Epoch 148/200\n",
      "247/247 - train_loss: 0.1778 - train_accuracy: 92.0580%\n",
      "Epoch 149/200\n",
      "247/247 - train_loss: 0.1681 - train_accuracy: 92.6022%\n",
      "Epoch 150/200\n",
      "247/247 - train_loss: 0.1774 - train_accuracy: 92.1845%\n",
      "Epoch 151/200\n",
      "247/247 - train_loss: 0.1801 - train_accuracy: 91.9314%\n",
      "Epoch 152/200\n",
      "247/247 - train_loss: 0.1779 - train_accuracy: 92.0137%\n",
      "Epoch 153/200\n",
      "247/247 - train_loss: 0.1654 - train_accuracy: 92.4756%\n",
      "Epoch 154/200\n",
      "247/247 - train_loss: 0.1729 - train_accuracy: 92.1972%\n",
      "Epoch 155/200\n",
      "247/247 - train_loss: 0.1719 - train_accuracy: 92.2668%\n",
      "Epoch 156/200\n",
      "247/247 - train_loss: 0.1738 - train_accuracy: 91.9884%\n",
      "Epoch 157/200\n",
      "247/247 - train_loss: 0.1732 - train_accuracy: 92.1149%\n",
      "Epoch 158/200\n",
      "247/247 - train_loss: 0.1762 - train_accuracy: 92.0706%\n",
      "Epoch 159/200\n",
      "247/247 - train_loss: 0.1710 - train_accuracy: 92.4567%\n",
      "Epoch 160/200\n",
      "247/247 - train_loss: 0.1793 - train_accuracy: 92.1023%\n",
      "Epoch 161/200\n",
      "247/247 - train_loss: 0.1756 - train_accuracy: 92.0770%\n",
      "Epoch 162/200\n",
      "247/247 - train_loss: 0.1780 - train_accuracy: 92.2731%\n",
      "Epoch 163/200\n",
      "247/247 - train_loss: 0.1799 - train_accuracy: 92.0833%\n",
      "Epoch 164/200\n",
      "247/247 - train_loss: 0.1762 - train_accuracy: 91.9694%\n",
      "Epoch 165/200\n",
      "247/247 - train_loss: 0.1753 - train_accuracy: 92.1972%\n",
      "Epoch 166/200\n",
      "247/247 - train_loss: 0.1769 - train_accuracy: 91.8808%\n",
      "Epoch 167/200\n",
      "247/247 - train_loss: 0.1698 - train_accuracy: 92.3364%\n",
      "Epoch 168/200\n",
      "247/247 - train_loss: 0.1734 - train_accuracy: 92.5579%\n",
      "Epoch 169/200\n",
      "247/247 - train_loss: 0.1733 - train_accuracy: 92.3744%\n",
      "Epoch 170/200\n",
      "247/247 - train_loss: 0.1681 - train_accuracy: 92.4883%\n",
      "Epoch 171/200\n",
      "247/247 - train_loss: 0.1725 - train_accuracy: 92.3427%\n",
      "Epoch 172/200\n",
      "247/247 - train_loss: 0.1718 - train_accuracy: 92.2352%\n",
      "Epoch 173/200\n",
      "247/247 - train_loss: 0.1763 - train_accuracy: 92.1592%\n",
      "Epoch 174/200\n",
      "247/247 - train_loss: 0.1766 - train_accuracy: 92.0073%\n",
      "Epoch 175/200\n",
      "247/247 - train_loss: 0.1789 - train_accuracy: 91.6783%\n",
      "Epoch 176/200\n",
      "247/247 - train_loss: 0.1658 - train_accuracy: 92.4313%\n",
      "Epoch 177/200\n",
      "247/247 - train_loss: 0.1717 - train_accuracy: 91.8744%\n",
      "Epoch 178/200\n",
      "247/247 - train_loss: 0.1651 - train_accuracy: 92.6275%\n",
      "Epoch 179/200\n",
      "247/247 - train_loss: 0.1673 - train_accuracy: 92.5642%\n",
      "Epoch 180/200\n",
      "247/247 - train_loss: 0.1725 - train_accuracy: 92.3681%\n",
      "Epoch 181/200\n",
      "247/247 - train_loss: 0.1700 - train_accuracy: 92.2035%\n",
      "Epoch 182/200\n",
      "247/247 - train_loss: 0.1743 - train_accuracy: 92.0516%\n",
      "Epoch 183/200\n",
      "247/247 - train_loss: 0.1759 - train_accuracy: 91.9377%\n",
      "Epoch 184/200\n",
      "247/247 - train_loss: 0.1695 - train_accuracy: 92.5959%\n",
      "Epoch 185/200\n",
      "247/247 - train_loss: 0.1739 - train_accuracy: 92.3111%\n",
      "Epoch 186/200\n",
      "247/247 - train_loss: 0.1708 - train_accuracy: 92.3427%\n",
      "Epoch 187/200\n",
      "247/247 - train_loss: 0.1712 - train_accuracy: 92.4440%\n",
      "Epoch 188/200\n",
      "247/247 - train_loss: 0.1699 - train_accuracy: 92.3491%\n",
      "Epoch 189/200\n",
      "247/247 - train_loss: 0.1651 - train_accuracy: 92.5959%\n",
      "Epoch 190/200\n",
      "247/247 - train_loss: 0.1706 - train_accuracy: 92.3301%\n",
      "Epoch 191/200\n",
      "247/247 - train_loss: 0.1691 - train_accuracy: 92.3807%\n",
      "Epoch 192/200\n",
      "247/247 - train_loss: 0.1769 - train_accuracy: 92.1909%\n",
      "Epoch 193/200\n",
      "247/247 - train_loss: 0.1687 - train_accuracy: 92.6338%\n",
      "Epoch 194/200\n",
      "247/247 - train_loss: 0.1697 - train_accuracy: 92.3870%\n",
      "Epoch 195/200\n",
      "247/247 - train_loss: 0.1738 - train_accuracy: 92.2984%\n",
      "Epoch 196/200\n",
      "247/247 - train_loss: 0.1702 - train_accuracy: 92.2731%\n",
      "Epoch 197/200\n",
      "247/247 - train_loss: 0.1683 - train_accuracy: 92.4567%\n",
      "Epoch 198/200\n",
      "247/247 - train_loss: 0.1734 - train_accuracy: 92.3364%\n",
      "Epoch 199/200\n",
      "247/247 - train_loss: 0.1726 - train_accuracy: 92.1213%\n",
      "Epoch 200/200\n",
      "247/247 - train_loss: 0.1665 - train_accuracy: 92.6592%\n"
     ]
    }
   ],
   "source": [
    "criterion = nn.CrossEntropyLoss()\n",
    "optimizer = torch.optim.Adam(model.parameters(), lr=0.001)\n",
    "trainer = BaseTrainer(model=model, criterion=criterion, optimizer=optimizer, train_loader=dm.train_loader, val_loader=dm.valid_loader, device=DEVICE)\n",
    "trainer.fit(num_epochs=200)"
   ]
  },
  {
   "cell_type": "code",
   "execution_count": 17,
   "id": "24678fcd-deef-4575-a8ef-66e7d50529ec",
   "metadata": {},
   "outputs": [],
   "source": [
    "if not os.path.exists(\"checkpoints\"):\n",
    "    os.makedirs(\"checkpoints\")\n",
    "torch.save(model.state_dict(), \"checkpoints/unantiinterableless.pth\")"
   ]
  },
  {
   "cell_type": "code",
   "execution_count": 34,
   "id": "d62e635e-c521-4732-9c63-aa8bdbe0acb4",
   "metadata": {},
   "outputs": [],
   "source": [
    "def plot_intro_diagram(model, hiddens=None):\n",
    "  from matplotlib import colors  as mcolors\n",
    "  from matplotlib import collections  as mc\n",
    "  cfg = model.config\n",
    "  W = model.W.cpu().detach()\n",
    "  N = len(W[:,0])\n",
    "  sel = range(1)\n",
    "  # plt.rcParams[\"axes.prop_cycle\"] = plt.cycler(\"color\", plt.cm.viridis(model.importance[0].cpu().numpy()))\n",
    "  plt.rcParams['figure.dpi'] = 200\n",
    "  fig, ax = plt.subplots(1,len(sel), figsize=(2*len(sel),2))\n",
    "  colors = [mcolors.to_rgba(c)\n",
    "        for c in plt.rcParams['axes.prop_cycle'].by_key()['color']]\n",
    "  ax.scatter(W[:,0], W[:,1], c=colors[0:len(W[:,0])])\n",
    "  ax.set_aspect('equal')\n",
    "  ax.add_collection(mc.LineCollection(np.stack((np.zeros_like(W),W), axis=1), colors=colors))\n",
    "\n",
    "  if hiddens is not None:\n",
    "    activation = hiddens.cpu().detach().numpy()\n",
    "    ax.scatter(activation[0, 0], activation[0, 1], c='black', s=100)\n",
    "    \n",
    "    ax.add_collection(mc.LineCollection([[(0, 0), (activation[0, 0], activation[0, 1])]], \n",
    "                                        colors=['black'], \n",
    "                                        linewidths=2, \n",
    "                                        linestyle='--'))\n",
    "\n",
    "  z = 20\n",
    "  ax.set_facecolor('#FCFBF8')\n",
    "  ax.set_xlim((-z,z))\n",
    "  ax.set_ylim((-z,z))\n",
    "  ax.tick_params(left = True, right = False , labelleft = False ,\n",
    "              labelbottom = False, bottom = True)\n",
    "  for spine in ['top', 'right']:\n",
    "      ax.spines[spine].set_visible(False)\n",
    "  for spine in ['bottom','left']:\n",
    "      ax.spines[spine].set_position('center')\n",
    "  plt.show()"
   ]
  },
  {
   "cell_type": "code",
   "execution_count": 35,
   "id": "4c4f51a2-b6d0-4d75-8bd2-9def1ee9c5c8",
   "metadata": {},
   "outputs": [
    {
     "data": {
      "image/png": "[encoded data removed]",
      "text/plain": [
       "<Figure size 400x400 with 1 Axes>"
      ]
     },
     "metadata": {},
     "output_type": "display_data"
    }
   ],
   "source": [
    "plot_intro_diagram(model)"
   ]
  },
  {
   "cell_type": "code",
   "execution_count": 36,
   "id": "0eb9dcc2-3fd4-443c-b646-62b16e61a5ee",
   "metadata": {},
   "outputs": [],
   "source": [
    "def get_activation_from_word(word):\n",
    "    tokens = dm.tokenize_data(word).to(DEVICE)\n",
    "    outputs, hidden = model.forward(tokens.unsqueeze(0), return_hidden=True)\n",
    "    _, predicted = torch.max(outputs.data, 1)\n",
    "    return predicted, hidden"
   ]
  },
  {
   "cell_type": "code",
   "execution_count": 37,
   "id": "4ec737a4-5f68-4c79-95e9-3e80660bf3c0",
   "metadata": {},
   "outputs": [
    {
     "data": {
      "image/png": "[encoded data removed]",
      "text/plain": [
       "<Figure size 400x400 with 1 Axes>"
      ]
     },
     "metadata": {},
     "output_type": "display_data"
    },
    {
     "name": "stdout",
     "output_type": "stream",
     "text": [
      "actual: un, predicted: less\n"
     ]
    },
    {
     "data": {
      "image/png": "[encoded data removed]",
      "text/plain": [
       "<Figure size 400x400 with 1 Axes>"
      ]
     },
     "metadata": {},
     "output_type": "display_data"
    },
    {
     "name": "stdout",
     "output_type": "stream",
     "text": [
      "actual: anti, predicted: able\n"
     ]
    },
    {
     "data": {
      "image/png": "[encoded data removed]",
      "text/plain": [
       "<Figure size 400x400 with 1 Axes>"
      ]
     },
     "metadata": {},
     "output_type": "display_data"
    },
    {
     "name": "stdout",
     "output_type": "stream",
     "text": [
      "actual: inter, predicted: inter\n"
     ]
    },
    {
     "data": {
      "image/png": "[encoded data removed]",
      "text/plain": [
       "<Figure size 400x400 with 1 Axes>"
      ]
     },
     "metadata": {},
     "output_type": "display_data"
    },
    {
     "name": "stdout",
     "output_type": "stream",
     "text": [
      "actual: able, predicted: less\n"
     ]
    },
    {
     "data": {
      "image/png": "[encoded data removed]",
      "text/plain": [
       "<Figure size 400x400 with 1 Axes>"
      ]
     },
     "metadata": {},
     "output_type": "display_data"
    },
    {
     "name": "stdout",
     "output_type": "stream",
     "text": [
      "actual: less, predicted: inter\n"
     ]
    }
   ],
   "source": [
    "for affix in (prefixes + suffixes):\n",
    "    out, acts = get_activation_from_word(affix)\n",
    "    plot_intro_diagram(model, acts)\n",
    "    print(f\"actual: {affix}, predicted: {dm.str_classes[out]}\")"
   ]
  },
  {
   "cell_type": "code",
   "execution_count": 39,
   "id": "2a8dadee-69c0-4d69-99f3-e63d9b3fe106",
   "metadata": {},
   "outputs": [
    {
     "data": {
      "image/png": "[encoded data removed]",
      "text/plain": [
       "<Figure size 400x400 with 1 Axes>"
      ]
     },
     "metadata": {},
     "output_type": "display_data"
    },
    {
     "name": "stdout",
     "output_type": "stream",
     "text": [
      "inter\n"
     ]
    }
   ],
   "source": [
    "out, acts = get_activation_from_word(\"interpretable\")\n",
    "plot_intro_diagram(model, acts)\n",
    "print(dm.str_classes[out])"
   ]
  },
  {
   "cell_type": "code",
   "execution_count": 71,
   "id": "11394ba5-ef94-40a3-9541-efcfcedcf79c",
   "metadata": {},
   "outputs": [
    {
     "data": {
      "image/png": "[encoded data removed]",
      "text/plain": [
       "<Figure size 400x400 with 1 Axes>"
      ]
     },
     "metadata": {},
     "output_type": "display_data"
    },
    {
     "name": "stdout",
     "output_type": "stream",
     "text": [
      "un\n"
     ]
    }
   ],
   "source": [
    "out, acts = get_activation_from_word(\"un\")\n",
    "plot_intro_diagram(model, acts)\n",
    "print(dm.str_classes[out])"
   ]
  },
  {
   "cell_type": "code",
   "execution_count": 76,
   "id": "394caf95-fbb3-4fbe-9869-729c22069784",
   "metadata": {},
   "outputs": [
    {
     "data": {
      "image/png": "[encoded data removed]",
      "text/plain": [
       "<Figure size 400x400 with 1 Axes>"
      ]
     },
     "metadata": {},
     "output_type": "display_data"
    },
    {
     "name": "stdout",
     "output_type": "stream",
     "text": [
      "ing\n"
     ]
    }
   ],
   "source": [
    "out, acts = get_activation_from_word(\"pre\")\n",
    "plot_intro_diagram(model, acts)\n",
    "print(dm.str_classes[out])"
   ]
  },
  {
   "cell_type": "code",
   "execution_count": 73,
   "id": "1534fd65-b03d-4035-bae1-ee3a2e7bc5ce",
   "metadata": {},
   "outputs": [
    {
     "data": {
      "image/png": "[encoded data removed]",
      "text/plain": [
       "<Figure size 400x400 with 1 Axes>"
      ]
     },
     "metadata": {},
     "output_type": "display_data"
    },
    {
     "name": "stdout",
     "output_type": "stream",
     "text": [
      "re\n"
     ]
    }
   ],
   "source": [
    "out, acts = get_activation_from_word(\"re\")\n",
    "plot_intro_diagram(model, acts)\n",
    "print(dm.str_classes[out])"
   ]
  },
  {
   "cell_type": "code",
   "execution_count": 74,
   "id": "80102a17-d8a5-4eec-ab8b-34626b6bd19e",
   "metadata": {},
   "outputs": [
    {
     "data": {
      "image/png": "[encoded data removed]",
      "text/plain": [
       "<Figure size 400x400 with 1 Axes>"
      ]
     },
     "metadata": {},
     "output_type": "display_data"
    },
    {
     "name": "stdout",
     "output_type": "stream",
     "text": [
      "ing\n"
     ]
    }
   ],
   "source": [
    "out, acts = get_activation_from_word(\"ing\")\n",
    "plot_intro_diagram(model, acts)\n",
    "print(dm.str_classes[out])"
   ]
  },
  {
   "cell_type": "code",
   "execution_count": 75,
   "id": "db98e43c-b7d0-44f1-bf7c-d14f02339a7d",
   "metadata": {},
   "outputs": [
    {
     "data": {
      "image/png": "[encoded data removed]",
      "text/plain": [
       "<Figure size 400x400 with 1 Axes>"
      ]
     },
     "metadata": {},
     "output_type": "display_data"
    },
    {
     "name": "stdout",
     "output_type": "stream",
     "text": [
      "tion\n"
     ]
    }
   ],
   "source": [
    "out, acts = get_activation_from_word(\"tion\")\n",
    "plot_intro_diagram(model, acts)\n",
    "print(dm.str_classes[out])"
   ]
  },
  {
   "cell_type": "code",
   "execution_count": 59,
   "id": "b98672f7-5a63-4c05-a7d0-9c29181baeb1",
   "metadata": {},
   "outputs": [
    {
     "data": {
      "image/png": "[encoded data removed]",
      "text/plain": [
       "<Figure size 400x400 with 1 Axes>"
      ]
     },
     "metadata": {},
     "output_type": "display_data"
    },
    {
     "name": "stdout",
     "output_type": "stream",
     "text": [
      "re\n"
     ]
    }
   ],
   "source": [
    "out, acts = get_activation_from_word(\"reinvent\")\n",
    "plot_intro_diagram(model, acts)\n",
    "print(dm.str_classes[out])"
   ]
  },
  {
   "cell_type": "code",
   "execution_count": 60,
   "id": "acc46a25-2559-4262-b8b2-36cf6f28fd61",
   "metadata": {},
   "outputs": [
    {
     "data": {
      "image/png": "[encoded data removed]",
      "text/plain": [
       "<Figure size 400x400 with 1 Axes>"
      ]
     },
     "metadata": {},
     "output_type": "display_data"
    },
    {
     "name": "stdout",
     "output_type": "stream",
     "text": [
      "re\n"
     ]
    }
   ],
   "source": [
    "out, acts = get_activation_from_word(\"redo\")\n",
    "plot_intro_diagram(model, acts)\n",
    "print(dm.str_classes[out])"
   ]
  },
  {
   "cell_type": "code",
   "execution_count": 61,
   "id": "a967ebac-aacc-44c9-b492-5b992a97e9b7",
   "metadata": {},
   "outputs": [
    {
     "data": {
      "image/png": "[encoded data removed]",
      "text/plain": [
       "<Figure size 400x400 with 1 Axes>"
      ]
     },
     "metadata": {},
     "output_type": "display_data"
    },
    {
     "name": "stdout",
     "output_type": "stream",
     "text": [
      "re\n"
     ]
    }
   ],
   "source": [
    "out, acts = get_activation_from_word(\"respond\")\n",
    "plot_intro_diagram(model, acts)\n",
    "print(dm.str_classes[out])"
   ]
  },
  {
   "cell_type": "code",
   "execution_count": 62,
   "id": "6a59ad9e-f235-475e-996f-951a2bd168f6",
   "metadata": {},
   "outputs": [
    {
     "data": {
      "image/png": "[encoded data removed]",
      "text/plain": [
       "<Figure size 400x400 with 1 Axes>"
      ]
     },
     "metadata": {},
     "output_type": "display_data"
    },
    {
     "name": "stdout",
     "output_type": "stream",
     "text": [
      "ing\n"
     ]
    }
   ],
   "source": [
    "out, acts = get_activation_from_word(\"replicate\")\n",
    "plot_intro_diagram(model, acts)\n",
    "print(dm.str_classes[out])"
   ]
  },
  {
   "cell_type": "code",
   "execution_count": 63,
   "id": "98c339f9-9963-40c4-a317-a38a30ba552c",
   "metadata": {},
   "outputs": [
    {
     "data": {
      "image/png": "[encoded data removed]",
      "text/plain": [
       "<Figure size 400x400 with 1 Axes>"
      ]
     },
     "metadata": {},
     "output_type": "display_data"
    },
    {
     "name": "stdout",
     "output_type": "stream",
     "text": [
      "ing\n"
     ]
    }
   ],
   "source": [
    "out, acts = get_activation_from_word(\"something\")\n",
    "plot_intro_diagram(model, acts)\n",
    "print(dm.str_classes[out])"
   ]
  },
  {
   "cell_type": "code",
   "execution_count": 64,
   "id": "3a6ba307-27a4-446d-8ddd-fa455a3924d0",
   "metadata": {},
   "outputs": [
    {
     "data": {
      "image/png": "[encoded data removed]",
      "text/plain": [
       "<Figure size 400x400 with 1 Axes>"
      ]
     },
     "metadata": {},
     "output_type": "display_data"
    },
    {
     "name": "stdout",
     "output_type": "stream",
     "text": [
      "ing\n"
     ]
    }
   ],
   "source": [
    "out, acts = get_activation_from_word(\"anything\")\n",
    "plot_intro_diagram(model, acts)\n",
    "print(dm.str_classes[out])"
   ]
  },
  {
   "cell_type": "code",
   "execution_count": 65,
   "id": "b66972d8-531b-4017-99c4-a9cc099d6754",
   "metadata": {},
   "outputs": [
    {
     "data": {
      "image/png": "[encoded data removed]",
      "text/plain": [
       "<Figure size 400x400 with 1 Axes>"
      ]
     },
     "metadata": {},
     "output_type": "display_data"
    },
    {
     "name": "stdout",
     "output_type": "stream",
     "text": [
      "ing\n"
     ]
    }
   ],
   "source": [
    "out, acts = get_activation_from_word(\"doing\")\n",
    "plot_intro_diagram(model, acts)\n",
    "print(dm.str_classes[out])"
   ]
  },
  {
   "cell_type": "code",
   "execution_count": 66,
   "id": "6883e4ee-3bbb-4145-8126-1b063ed997d4",
   "metadata": {},
   "outputs": [
    {
     "data": {
      "image/png": "[encoded data removed]",
      "text/plain": [
       "<Figure size 400x400 with 1 Axes>"
      ]
     },
     "metadata": {},
     "output_type": "display_data"
    },
    {
     "name": "stdout",
     "output_type": "stream",
     "text": [
      "tion\n"
     ]
    }
   ],
   "source": [
    "out, acts = get_activation_from_word(\"lactation\")\n",
    "plot_intro_diagram(model, acts)\n",
    "print(dm.str_classes[out])"
   ]
  },
  {
   "cell_type": "code",
   "execution_count": 67,
   "id": "6f368f79-ab44-4499-9be8-2982a6a93098",
   "metadata": {},
   "outputs": [
    {
     "data": {
      "image/png": "[encoded data removed]",
      "text/plain": [
       "<Figure size 400x400 with 1 Axes>"
      ]
     },
     "metadata": {},
     "output_type": "display_data"
    },
    {
     "name": "stdout",
     "output_type": "stream",
     "text": [
      "tion\n"
     ]
    }
   ],
   "source": [
    "out, acts = get_activation_from_word(\"nation\")\n",
    "plot_intro_diagram(model, acts)\n",
    "print(dm.str_classes[out])"
   ]
  },
  {
   "cell_type": "code",
   "execution_count": 68,
   "id": "3f69fb20-9629-49bb-b1d4-ebf660d6909e",
   "metadata": {},
   "outputs": [
    {
     "data": {
      "image/png": "[encoded data removed]",
      "text/plain": [
       "<Figure size 400x400 with 1 Axes>"
      ]
     },
     "metadata": {},
     "output_type": "display_data"
    },
    {
     "name": "stdout",
     "output_type": "stream",
     "text": [
      "re\n"
     ]
    }
   ],
   "source": [
    "out, acts = get_activation_from_word(\"respond\")\n",
    "plot_intro_diagram(model, acts)\n",
    "print(dm.str_classes[out])"
   ]
  },
  {
   "cell_type": "code",
   "execution_count": 69,
   "id": "7e1028bb-2635-4a7d-8c8d-88b402a8cfe3",
   "metadata": {},
   "outputs": [
    {
     "data": {
      "image/png": "[encoded data removed]",
      "text/plain": [
       "<Figure size 400x400 with 1 Axes>"
      ]
     },
     "metadata": {},
     "output_type": "display_data"
    },
    {
     "name": "stdout",
     "output_type": "stream",
     "text": [
      "re\n"
     ]
    }
   ],
   "source": [
    "out, acts = get_activation_from_word(\"replay\")\n",
    "plot_intro_diagram(model, acts)\n",
    "print(dm.str_classes[out])"
   ]
  },
  {
   "cell_type": "code",
   "execution_count": 70,
   "id": "5bb70a05-87ea-4434-b94f-cad6a18346d7",
   "metadata": {},
   "outputs": [
    {
     "data": {
      "image/png": "[encoded data removed]",
      "text/plain": [
       "<Figure size 400x400 with 1 Axes>"
      ]
     },
     "metadata": {},
     "output_type": "display_data"
    },
    {
     "name": "stdout",
     "output_type": "stream",
     "text": [
      "un\n"
     ]
    }
   ],
   "source": [
    "out, acts = get_activation_from_word(\"uncanny\")\n",
    "plot_intro_diagram(model, acts)\n",
    "print(dm.str_classes[out])"
   ]
  },
  {
   "cell_type": "code",
   "execution_count": 25,
   "id": "f499bb26-80ef-41f7-90c4-ead8dcdfd182",
   "metadata": {},
   "outputs": [
    {
     "data": {
      "image/png": "[encoded data removed]",
      "text/plain": [
       "<Figure size 400x400 with 1 Axes>"
      ]
     },
     "metadata": {},
     "output_type": "display_data"
    },
    {
     "name": "stdout",
     "output_type": "stream",
     "text": [
      "un\n"
     ]
    }
   ],
   "source": [
    "out, acts = get_activation_from_word(\"un\")\n",
    "plot_intro_diagram(model, acts)\n",
    "print(dm.str_classes[out])"
   ]
  },
  {
   "cell_type": "code",
   "execution_count": 26,
   "id": "cd0a2ba9-1471-477e-85d7-a08b986a029a",
   "metadata": {},
   "outputs": [
    {
     "data": {
      "image/png": "[encoded data removed]",
      "text/plain": [
       "<Figure size 400x400 with 1 Axes>"
      ]
     },
     "metadata": {},
     "output_type": "display_data"
    },
    {
     "name": "stdout",
     "output_type": "stream",
     "text": [
      "ing\n"
     ]
    }
   ],
   "source": [
    "out, acts = get_activation_from_word(\"ing\")\n",
    "plot_intro_diagram(model, acts)\n",
    "print(dm.str_classes[out])"
   ]
  },
  {
   "cell_type": "code",
   "execution_count": 27,
   "id": "45e8e5cf-bfca-407c-b3ff-02b34f70723e",
   "metadata": {},
   "outputs": [
    {
     "data": {
      "image/png": "[encoded data removed]",
      "text/plain": [
       "<Figure size 400x400 with 1 Axes>"
      ]
     },
     "metadata": {},
     "output_type": "display_data"
    },
    {
     "name": "stdout",
     "output_type": "stream",
     "text": [
      "tion\n"
     ]
    }
   ],
   "source": [
    "out, acts = get_activation_from_word(\"tion\")\n",
    "plot_intro_diagram(model, acts)\n",
    "print(dm.str_classes[out])"
   ]
  },
  {
   "cell_type": "code",
   "execution_count": null,
   "id": "5de8c336-b291-4125-9475-53d4dcaf0a4a",
   "metadata": {},
   "outputs": [],
   "source": []
  }
 ],
 "metadata": {
  "kernelspec": {
   "display_name": "Python 3 (ipykernel)",
   "language": "python",
   "name": "python3"
  },
  "language_info": {
   "codemirror_mode": {
    "name": "ipython",
    "version": 3
   },
   "file_extension": ".py",
   "mimetype": "text/x-python",
   "name": "python",
   "nbconvert_exporter": "python",
   "pygments_lexer": "ipython3",
   "version": "3.12.6"
  }
 },
 "nbformat": 4,
 "nbformat_minor": 5
}
